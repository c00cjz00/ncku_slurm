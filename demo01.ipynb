{
 "cells": [
  {
   "cell_type": "code",
   "execution_count": null,
   "id": "8f8111d1-5373-4809-acd8-62a3fea4f118",
   "metadata": {},
   "outputs": [],
   "source": [
    "%%bash\n",
    "# -> 切換目錄\n",
    "cd ${HOME}/ncku_slurm\n",
    "\n",
    "# -> 環境變數\n",
    "export MAGPURIFYDB=${HOME}/MAGpurify-db-v1.0\n",
    "\n",
    "# -> 執行程式\n",
    "ml libs/singularity/3.7.1\n",
    "singularity exec \\\n",
    "    /work/c00cjz002/nvidia/magpurify_v2.1.2.sif bash -c \\\n",
    "    \"magpurify -h && sleep 10 && echo $(date) > date.txt\"  "
   ]
  }
 ],
 "metadata": {
  "kernelspec": {
   "display_name": "Python 3 (ipykernel)",
   "language": "python",
   "name": "python3"
  },
  "language_info": {
   "codemirror_mode": {
    "name": "ipython",
    "version": 3
   },
   "file_extension": ".py",
   "mimetype": "text/x-python",
   "name": "python",
   "nbconvert_exporter": "python",
   "pygments_lexer": "ipython3",
   "version": "3.9.5"
  }
 },
 "nbformat": 4,
 "nbformat_minor": 5
}

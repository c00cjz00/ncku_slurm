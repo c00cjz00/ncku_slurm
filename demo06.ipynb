{
 "cells": [
  {
   "cell_type": "code",
   "execution_count": 2,
   "id": "8f8111d1-5373-4809-acd8-62a3fea4f118",
   "metadata": {},
   "outputs": [],
   "source": [
    "# https://man.twcc.ai/@TWCC-III-manual/ryyo0tsuu\n",
    "def SLURM(cmd):\n",
    "    ## SLURM 內容, 請修改 ---> Email\n",
    "    SLURM='''#!/work/c00cjz002/binary/bash5.0/bin/bash\n",
    "#SBATCH -A MST109178        # 計畫代號\n",
    "#SBATCH -J CPU_T3_C34       # 工作代號 (標籤, 可自行定義)\n",
    "#SBATCH -p ngs12G           # 工作區塊 \n",
    "#SBATCH -c 3                # 使用的CPU核心數\n",
    "#SBATCH --mem=12g           # 使用的記憶體容量 \n",
    "#SBATCH --mail-user=summerhill001@gmail.com    # 請修改為您的信向\n",
    "#SBATCH --mail-type=BEGIN,END                  # 指定送出email時機 可為NONE, BEGIN, END, FAIL, REQUEUE, ALL\n",
    "#SBATCH -o log/%j.logi      # 執行記錄檔案儲存於log目錄底下\n",
    "'''\n",
    "    myCmd = SLURM + cmd\n",
    "    \n",
    "    ## 儲存上述內容 SLURM.sh\n",
    "    import time\n",
    "    slurm_shell = 'slurm/'+time.strftime(\"%Y-%m-%d_%H-%M-%S\")+'.sh'\n",
    "    \n",
    "    f = open(slurm_shell, \"w\")\n",
    "    f.write(myCmd)\n",
    "    f.close()    \n",
    "\n",
    "    ## 執行SLURM\n",
    "    #!sbatch SLURM.sh\n",
    "    jobID=(subprocess.check_output('sbatch '+slurm_shell+' |awk \\'{print $4}\\'', shell=True,text=True))\n",
    "    return jobID\n",
    "\n",
    "## 建立目錄\n",
    "import subprocess\n",
    "!mkdir -p slurm\n",
    "!mkdir -p log"
   ]
  },
  {
   "cell_type": "code",
   "execution_count": 3,
   "id": "4389382c-05b9-4f74-917c-aefe82f60fbe",
   "metadata": {},
   "outputs": [],
   "source": [
    "def createCMD(inputFile, saveFolder):\n",
    "    cmd='''\n",
    "# -> 輸入變數 (請自行修改或新增)\n",
    "inputFile='''+ inputFile +''' \n",
    "saveFolder='''+ saveFolder +''' \n",
    "\n",
    "# -> 切換目錄\n",
    "cd ${HOME}/ncku_slurm\n",
    "\n",
    "# -> 環境變數\n",
    "export MAGPURIFYDB=${HOME}/MAGpurify-db-v1.0\n",
    "\n",
    "# -> 執行程式\n",
    "ml libs/singularity/3.7.1\n",
    "\n",
    "echo \"STEP1\"\n",
    "singularity exec \\\n",
    "    /work/c00cjz002/nvidia/magpurify_v2.1.2.sif bash -c \\\n",
    "    \"magpurify -h && sleep 5 && echo $(date) > date.txt\"\n",
    "'''\n",
    "    return cmd"
   ]
  },
  {
   "cell_type": "code",
   "execution_count": 6,
   "id": "d4192034-574d-48d1-a7bf-7791e3a32938",
   "metadata": {},
   "outputs": [
    {
     "name": "stdout",
     "output_type": "stream",
     "text": [
      "1372792 11477640\n",
      "1372793 02856573\n",
      "1372794 12280126\n",
      "1372795 11477673\n",
      "1372796 13173476\n",
      "1372797 08917702\n",
      "1372798 13277673\n",
      "1372799 12695924\n",
      "1372800 12612765\n",
      "1372801 02322379\n"
     ]
    }
   ],
   "source": [
    "## 指令集\n",
    "import os\n",
    "import re\n",
    "from os import walk\n",
    "FILES_PATH=\"/work/c00cjz002/data/Powei20211109/\"\n",
    "files = next(walk(FILES_PATH), (None, None, []))[2]  # [] if no file\n",
    "pattern = \"img$\"\n",
    "for file in files:\n",
    "    if re.search(pattern, file):\n",
    "        inputFile=FILES_PATH+file\n",
    "        saveFolder=os.path.splitext(os.path.basename(inputFile))[0]\n",
    "        cmd=createCMD(inputFile, saveFolder)\n",
    "        #print(cmd)\n",
    "        jobID = SLURM(cmd)\n",
    "        print(jobID.strip()+' '+saveFolder)"
   ]
  },
  {
   "cell_type": "code",
   "execution_count": 7,
   "id": "489dbadd-d983-4ef1-b225-e18da5061765",
   "metadata": {},
   "outputs": [
    {
     "name": "stdout",
     "output_type": "stream",
     "text": [
      "             JOBID PARTITION     NAME     USER ST       TIME  NODES NODELIST(REASON) \n",
      "           1372792    ngs12G CPU_T3_C c00cjz00  R       0:02      1 cpn3857 \n",
      "           1372793    ngs12G CPU_T3_C c00cjz00  R       0:02      1 cpn3857 \n",
      "           1372794    ngs12G CPU_T3_C c00cjz00  R       0:02      1 cpn3857 \n",
      "           1372795    ngs12G CPU_T3_C c00cjz00  R       0:02      1 cpn3857 \n",
      "           1372796    ngs12G CPU_T3_C c00cjz00  R       0:02      1 cpn3857 \n",
      "           1372797    ngs12G CPU_T3_C c00cjz00  R       0:02      1 cpn3857 \n",
      "           1372798    ngs12G CPU_T3_C c00cjz00  R       0:02      1 cpn3857 \n",
      "           1372799    ngs12G CPU_T3_C c00cjz00  R       0:02      1 cpn3891 \n",
      "           1372800    ngs12G CPU_T3_C c00cjz00  R       0:02      1 cpn3891 \n",
      "           1372801    ngs12G CPU_T3_C c00cjz00  R       0:02      1 cpn3891 \n"
     ]
    }
   ],
   "source": [
    "## 觀看執行狀況\n",
    "!squeue -u `whoami` | grep \"$jobID\\|JOBID\" "
   ]
  },
  {
   "cell_type": "code",
   "execution_count": null,
   "id": "cae3ddd5-b5bc-4136-9293-1685e1db68b7",
   "metadata": {},
   "outputs": [],
   "source": [
    "## 刪除JOB\n",
    "!scancel $jobID"
   ]
  },
  {
   "cell_type": "code",
   "execution_count": 15,
   "id": "4b01e4d4-0b81-49ee-967f-9ffe4996a35d",
   "metadata": {},
   "outputs": [],
   "source": [
    "## 全部JOB刪除\n",
    "!squeue -u `whoami` | grep -v JOBID  | awk '{print $1}' | xargs scancel  # 列出 PID 並砍掉 Process"
   ]
  },
  {
   "cell_type": "code",
   "execution_count": null,
   "id": "c0aebe19-645c-4522-838b-e348f35554b3",
   "metadata": {},
   "outputs": [],
   "source": []
  }
 ],
 "metadata": {
  "kernelspec": {
   "display_name": "Python 3 (ipykernel)",
   "language": "python",
   "name": "python3"
  },
  "language_info": {
   "codemirror_mode": {
    "name": "ipython",
    "version": 3
   },
   "file_extension": ".py",
   "mimetype": "text/x-python",
   "name": "python",
   "nbconvert_exporter": "python",
   "pygments_lexer": "ipython3",
   "version": "3.9.5"
  }
 },
 "nbformat": 4,
 "nbformat_minor": 5
}
